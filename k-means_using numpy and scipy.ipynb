{
 "cells": [
  {
   "cell_type": "markdown",
   "metadata": {},
   "source": [
    "#### The procedure for k-means algorithm is as follows:\n",
    "\n",
    "1. **randomly place k centroids, one for each cluster** - the farther apart the clusters are placed, the better. \n",
    "2. **calculate the distance of each data point or object from the centroids.** Euclidean distance is used to measure the distance from the object to the centroid. Euclidean distance is the most popular. \n",
    "3. **assign each data point or object to its closest centroid creating a group.** - each data point has been classified to a group\n",
    "4. **recalculate the position of the k centroids.** The new centroid position is determined by the mean of all points in the group. \n",
    "5. **repeat steps 2-5 until the centroids no longer move** - points will not switch clusters"
   ]
  },
  {
   "cell_type": "code",
   "execution_count": null,
   "metadata": {},
   "outputs": [],
   "source": [
    "import numpy as np\n",
    "import pandas as pd\n",
    "from scipy.spatial import distance\n",
    "import matplotlib.pyplot as plt\n",
    "from sklearn.preprocessing import StandardScaler\n",
    "%matplotlib inline\n",
    "\n",
    "X = np.array([[1.0, 1.0],\n",
    "              [1.5, 1.0],\n",
    "              [1.5, 0.5],\n",
    "              [1.0, 1.5],\n",
    "              [2.0, 1.5],\n",
    "              [1.75, 2],\n",
    "              [3.5, 2.0],\n",
    "              [3.0, 2.5],\n",
    "              [2.5, 2.0],\n",
    "              [2.2, 2.0]])"
   ]
  },
  {
   "cell_type": "code",
   "execution_count": null,
   "metadata": {},
   "outputs": [],
   "source": [
    "#Plot points\n",
    "plt.figure(figsize=(8,5))\n",
    "plt.scatter(X[:,0],X[:,1])\n",
    "plt.show()"
   ]
  },
  {
   "cell_type": "code",
   "execution_count": null,
   "metadata": {},
   "outputs": [],
   "source": [
    "k=2 #number of clusters\n",
    "max_iterations=10 #number of iterations\n",
    "\n",
    "# checks if the object (first argument) is an instance or subclass of classinfo class (second argument).\n",
    "# helpful if we use dataframe, not relevan for numpy array\n",
    "if isinstance(X, pd.DataFrame):  \n",
    "    X = X.values\n",
    "\n",
    "'''1. randomly place k centroids, one for each cluster''' \n",
    "# here we selected centroids manually for two centroids to simplify code\n",
    "centroids = np.array([[0, 0], [5, 5]])\n",
    "print('print centroids')\n",
    "print(centroids,'\\n')\n",
    "\n",
    "'''2. calculate the distance of each data point or object from the k-centroids'''\n",
    "M = distance.cdist(X, centroids, 'euclidean')\n",
    "print('print distances M')\n",
    "print(M[:],'\\n')\n",
    "\n",
    "'''3. assign each data point or object to its closest centroid creating a group'''\n",
    "# np.argmin returns indices \n",
    "P = np.argmin(M,axis=1)\n",
    "print('print initial clustering')\n",
    "print(P[:])"
   ]
  },
  {
   "cell_type": "code",
   "execution_count": null,
   "metadata": {},
   "outputs": [],
   "source": [
    "# plot points assigned to initial clusters\n",
    "def plot_kmeans_with_centroids():\n",
    "    plt.figure(figsize=(10,7))\n",
    "    plt.scatter(X[:,0],X[:,1],c=P)\n",
    "    plt.scatter(centroids[:,0], centroids[:,1], c='red')\n",
    "    plt.show()\n",
    "plot_kmeans_with_centroids() \n",
    "\n",
    "for _ in range(max_iterations):\n",
    "    '''4. recalculate the position of the k centroids.'''\n",
    "    '''The new centroid position is determined by the mean of all points in the group.'''\n",
    "    centroids = np.vstack([X[P==i,:].mean(axis=0) for i in range(k)])\n",
    "    print('\\n\\nCentroids changed positions...')\n",
    "    plot_kmeans_with_centroids()\n",
    "    \n",
    "    '''Calculate distance and reassign points to closest clusters'''\n",
    "    tmp = np.argmin(distance.cdist(X, centroids, 'euclidean'),axis=1)\n",
    "\n",
    "    '''Check if temp and P arrays of clusters are equal'''\n",
    "    '''If no changes are made (no reassignment) then exit the loop '''\n",
    "    if np.array_equal(P,tmp):\n",
    "        print('\\nNo more points reassingments from cluster to cluster, the end of learning.')\n",
    "        break\n",
    "    \n",
    "    print('\\n\\nInitial clusters: ',P)\n",
    "    P = tmp\n",
    "    print('Clusters after reassignment : ',P)\n",
    "    plot_kmeans_with_centroids()\n",
    "    \n",
    "print(f'\\nFinal cluster assignment: {P}')\n",
    "print(f'Final centroid positions: {centroids}')"
   ]
  },
  {
   "cell_type": "markdown",
   "metadata": {},
   "source": [
    "### Using Scikit learn"
   ]
  },
  {
   "cell_type": "code",
   "execution_count": null,
   "metadata": {},
   "outputs": [],
   "source": [
    "from sklearn.cluster import KMeans\n",
    "\n",
    "kmeans = KMeans(n_clusters=2).fit(X)\n",
    "print(kmeans.labels_)\n",
    "kmeans.cluster_centers_"
   ]
  }
 ],
 "metadata": {
  "kernelspec": {
   "display_name": "Python 3",
   "language": "python",
   "name": "python3"
  },
  "language_info": {
   "codemirror_mode": {
    "name": "ipython",
    "version": 3
   },
   "file_extension": ".py",
   "mimetype": "text/x-python",
   "name": "python",
   "nbconvert_exporter": "python",
   "pygments_lexer": "ipython3",
   "version": "3.8.6"
  }
 },
 "nbformat": 4,
 "nbformat_minor": 4
}
