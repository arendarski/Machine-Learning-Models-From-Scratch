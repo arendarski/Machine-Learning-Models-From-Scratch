{
 "cells": [
  {
   "cell_type": "markdown",
   "metadata": {},
   "source": [
    "#### Logistic Regression using Numpy\n",
    "\n",
    "---"
   ]
  },
  {
   "cell_type": "code",
   "execution_count": null,
   "metadata": {},
   "outputs": [],
   "source": [
    "# Importing libraries\n",
    "import numpy as np\n",
    "import pandas as pd\n",
    "import matplotlib.pyplot as plt\n",
    "from sklearn.model_selection import train_test_split\n",
    "from math import exp \n",
    "\n",
    "plt.rcParams[\"figure.figsize\"] = (10, 6)"
   ]
  },
  {
   "cell_type": "code",
   "execution_count": null,
   "metadata": {},
   "outputs": [],
   "source": [
    "# Load the data\n",
    "data = pd.read_csv(\"data_small.csv\")\n",
    "X_train, y_train = data['x'], data['y']\n",
    "print(data.shape) # return number of [rows, columns]\n",
    "data.head(20)"
   ]
  },
  {
   "cell_type": "markdown",
   "metadata": {},
   "source": [
    "##### Training using Gradient Descent\n",
    "\n",
    "---"
   ]
  },
  {
   "cell_type": "code",
   "execution_count": null,
   "metadata": {},
   "outputs": [],
   "source": [
    "# Creating the logistic regression model\n",
    "\n",
    "# Function to make predictions - (n polish: funkcja sigmoidalna)\n",
    "def predict(X, b0, b1):\n",
    "    return np.array([1 / (1 + exp(-1*b0 + -1*b1*x)) for x in X])\n",
    "\n",
    "# Function to train the model\n",
    "def logistic_regression(X, Y):\n",
    "\n",
    "    # Initializing parameters\n",
    "    b0 = 0\n",
    "    b1 = 0\n",
    "    L = 0.1 # learning rate\n",
    "    total_epochs = 20\n",
    "    \n",
    "    y_pred = predict(X, b0, b1) # predict y_hat using sigmoid function\n",
    "    \n",
    "    D_b0 = sum((y_pred - Y))  # Derivative of loss wrt b0\n",
    "    D_b1 = sum((y_pred - Y) * X )  # Derivative of loss wrt b1\n",
    "    \n",
    "    loss_function = -sum(Y * np.log10(y_pred) + (1 - Y) * np.log10(1 - y_pred))\n",
    "\n",
    "    print(f' Paramteres of b0 = {b0} and b1 = {b1}')\n",
    "    print(f' Sum of partial derivatives of b0 = {D_b0} and b1 = {D_b1}')\n",
    "    print(f' Loss function = {loss_function}')\n",
    "    print(f'---- End of epoch: 0'); \n",
    "    print()\n",
    "\n",
    "    for epoch in range(total_epochs):\n",
    "        b0 = b0 - L * D_b0  # update parameters\n",
    "        b1 = b1 - L * D_b1\n",
    "        y_pred = predict(X, b0, b1)\n",
    "        D_b0 = sum((y_pred - Y))  # Derivative of loss wrt b0\n",
    "        D_b1 = sum(X * (y_pred - Y))  # Derivative of loss wrt b1\n",
    "        loss_function = -sum((Y * np.log10(y_pred)) + (1 - Y) * (np.log10(1 - y_pred)))\n",
    "        epoch = epoch + 1 # count iterations\n",
    "        \n",
    "        '''Print only first/last x iterations'''\n",
    "        x = 5\n",
    "        if epoch < x  or epoch > total_epochs - x :\n",
    "            print(f' Paramteres of b0 = {b0} and b1 = {b1}')\n",
    "            print(f' Sum of partial derivatives of b0 = {D_b0} and b1 = {D_b1}')\n",
    "            print(f' Loss function = {loss_function}')\n",
    "            print(f'---- End of epoch: {epoch}'); \n",
    "            print()\n",
    "        \n",
    "    return b0, b1"
   ]
  },
  {
   "cell_type": "code",
   "execution_count": null,
   "metadata": {},
   "outputs": [],
   "source": [
    "# exectute the main function to train the model and print the results\n",
    "b0, b1 = logistic_regression(X_train, y_train)"
   ]
  },
  {
   "cell_type": "markdown",
   "metadata": {},
   "source": [
    "##### Evaluate model\n",
    "\n",
    "---"
   ]
  },
  {
   "cell_type": "code",
   "execution_count": null,
   "metadata": {},
   "outputs": [],
   "source": [
    "y_pred = predict(X_train, b0, b1) # return final sigmoid function predictions\n",
    "y_pred_class = [1 if p >= 0.5 else 0 for p in y_pred] # assign labels (0,1) to sigmoid function predictions"
   ]
  },
  {
   "cell_type": "code",
   "execution_count": null,
   "metadata": {},
   "outputs": [],
   "source": [
    "# Plot y_pred vs y\n",
    "\n",
    "plt.clf()\n",
    "plt.scatter(X_train, y_train, label='y')\n",
    "plt.scatter(X_train, y_pred, c=\"red\", label='y_hat')\n",
    "\n",
    "plt.ylabel('Class/Predicted')\n",
    "plt.xlabel('X')\n",
    "plt.title('y_pred vs y')\n",
    "plt.legend()\n",
    "\n",
    "plt.show()"
   ]
  },
  {
   "cell_type": "code",
   "execution_count": null,
   "metadata": {},
   "outputs": [],
   "source": [
    "# Plot y_pred labeled vs y\n",
    "\n",
    "plt.clf()\n",
    "plt.scatter(X_train, y_train, label='y')\n",
    "plt.scatter(X_train, y_pred_class, c=\"red\", label='y_pred labeled')\n",
    "\n",
    "plt.ylabel('Class/Predicted')\n",
    "plt.xlabel('X')\n",
    "plt.title('y_pred vs y')\n",
    "plt.legend()\n",
    "plt.show()\n",
    "\n",
    "# The accuracy\n",
    "accuracy = 0\n",
    "for i in range(len(y_pred_class)):\n",
    "    if y_pred_class[i] == y_train.iloc[i]:\n",
    "        accuracy += 1\n",
    "print(f\"Accuracy = {accuracy / len(y_pred_class)}\")"
   ]
  },
  {
   "cell_type": "markdown",
   "metadata": {},
   "source": [
    "#### Logistic Regression using Sci-kit Learn"
   ]
  },
  {
   "cell_type": "code",
   "execution_count": null,
   "metadata": {},
   "outputs": [],
   "source": [
    "from sklearn.linear_model import LogisticRegression\n",
    "\n",
    "# References: https://scikit-learn.org/stable/modules/generated/sklearn.linear_model.LogisticRegression.html\n",
    "\n",
    "# Create an instance and fit the model \n",
    "solver_list = ['lbfgs', 'liblinear', 'newton-cg', 'sag', 'saga']\n",
    "lr_model = LogisticRegression(solver=solver_list[0])\n",
    "lr_model.fit(X_train.values.reshape(-1, 1), y_train.values.reshape(-1, 1))\n",
    "\n",
    "# Making predictions\n",
    "y_pred_sk = lr_model.predict(X_train.values.reshape(-1, 1))\n",
    "\n",
    "plt.clf()\n",
    "plt.scatter(X_train, y_train, label = 'y')\n",
    "plt.scatter(X_train, y_pred_sk, c=\"red\", label='y_pred labeled')\n",
    "plt.legend()\n",
    "plt.show()\n",
    "\n",
    "# Accuracy\n",
    "print(f\"Accuracy = {lr_model.score(X_train.values.reshape(-1, 1), y_train.values.reshape(-1, 1))}\")"
   ]
  }
 ],
 "metadata": {
  "kernelspec": {
   "display_name": "Python 3",
   "language": "python",
   "name": "python3"
  },
  "language_info": {
   "codemirror_mode": {
    "name": "ipython",
    "version": 3
   },
   "file_extension": ".py",
   "mimetype": "text/x-python",
   "name": "python",
   "nbconvert_exporter": "python",
   "pygments_lexer": "ipython3",
   "version": "3.8.6"
  }
 },
 "nbformat": 4,
 "nbformat_minor": 4
}
